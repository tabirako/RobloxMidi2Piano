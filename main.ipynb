{
 "cells": [
  {
   "cell_type": "code",
   "execution_count": 1,
   "id": "802a0050-43d4-4d86-8b92-23ce80fb8eb6",
   "metadata": {
    "tags": []
   },
   "outputs": [
    {
     "ename": "ModuleNotFoundError",
     "evalue": "No module named 'rtmidi'",
     "output_type": "error",
     "traceback": [
      "\u001b[1;31m---------------------------------------------------------------------------\u001b[0m",
      "\u001b[1;31mModuleNotFoundError\u001b[0m                       Traceback (most recent call last)",
      "Cell \u001b[1;32mIn[1], line 1\u001b[0m\n\u001b[1;32m----> 1\u001b[0m \u001b[38;5;28;01mimport\u001b[39;00m\u001b[38;5;250m \u001b[39m\u001b[38;5;21;01mrtmidi\u001b[39;00m\n\u001b[0;32m      2\u001b[0m \u001b[38;5;28;01mimport\u001b[39;00m\u001b[38;5;250m \u001b[39m\u001b[38;5;21;01mtkinter\u001b[39;00m\u001b[38;5;250m \u001b[39m\u001b[38;5;28;01mas\u001b[39;00m\u001b[38;5;250m \u001b[39m\u001b[38;5;21;01mtk\u001b[39;00m\n\u001b[0;32m      3\u001b[0m \u001b[38;5;28;01mfrom\u001b[39;00m\u001b[38;5;250m \u001b[39m\u001b[38;5;21;01mtkinter\u001b[39;00m\u001b[38;5;250m \u001b[39m\u001b[38;5;28;01mimport\u001b[39;00m ttk\n",
      "\u001b[1;31mModuleNotFoundError\u001b[0m: No module named 'rtmidi'"
     ]
    }
   ],
   "source": [
    "import rtmidi\n",
    "import tkinter as tk\n",
    "from tkinter import ttk\n"
   ]
  },
  {
   "cell_type": "code",
   "execution_count": 2,
   "id": "5ca21f32-443e-4090-bfa1-31ec095e394b",
   "metadata": {
    "tags": []
   },
   "outputs": [],
   "source": [
    "import time\n",
    "import keyboard"
   ]
  },
  {
   "cell_type": "code",
   "execution_count": 3,
   "id": "52a31cd6-1c2c-4eb9-bedd-ea89b6011ee3",
   "metadata": {},
   "outputs": [],
   "source": [
    "midi_in = rtmidi.MidiIn()"
   ]
  },
  {
   "cell_type": "code",
   "execution_count": 4,
   "id": "1c608ebf-94b7-465a-89ba-bf70887acb3a",
   "metadata": {
    "tags": []
   },
   "outputs": [],
   "source": [
    "ports = midi_in.get_ports()"
   ]
  },
  {
   "cell_type": "code",
   "execution_count": 5,
   "id": "1636c4fd-174f-4095-aba8-0700164dc88c",
   "metadata": {
    "tags": []
   },
   "outputs": [
    {
     "data": {
      "text/plain": [
       "['Steinberg UR22C-1 0', 'RD-88 1', 'MIDIIN2 (RD-88) 2']"
      ]
     },
     "execution_count": 5,
     "metadata": {},
     "output_type": "execute_result"
    }
   ],
   "source": [
    "ports"
   ]
  },
  {
   "cell_type": "code",
   "execution_count": 6,
   "id": "28683ad4-f2e7-4f38-8bb8-fe4beea2c89f",
   "metadata": {
    "tags": []
   },
   "outputs": [],
   "source": [
    "ports_dict = {k[:-2]: v for (v,k) in enumerate(midi_in.get_ports())}"
   ]
  },
  {
   "cell_type": "code",
   "execution_count": 7,
   "id": "d586bf7b-a410-4d47-a998-aba745fd7926",
   "metadata": {
    "tags": []
   },
   "outputs": [
    {
     "data": {
      "text/plain": [
       "<_rtmidi.MidiIn at 0x25a97ee8220>"
      ]
     },
     "execution_count": 7,
     "metadata": {},
     "output_type": "execute_result"
    }
   ],
   "source": [
    "midi_in.open_port(ports_dict[\"RD-88\"])"
   ]
  },
  {
   "cell_type": "code",
   "execution_count": 8,
   "id": "8ba18bc7-ba1e-4ec7-9bcc-1ac153cf5c9c",
   "metadata": {},
   "outputs": [
    {
     "data": {
      "text/plain": [
       "True"
      ]
     },
     "execution_count": 8,
     "metadata": {},
     "output_type": "execute_result"
    }
   ],
   "source": [
    "midi_in.is_port_open()"
   ]
  },
  {
   "cell_type": "code",
   "execution_count": 11,
   "id": "aac86b13-9b28-483b-8956-0441864dc411",
   "metadata": {
    "tags": []
   },
   "outputs": [
    {
     "ename": "KeyboardInterrupt",
     "evalue": "",
     "output_type": "error",
     "traceback": [
      "\u001b[1;31m---------------------------------------------------------------------------\u001b[0m",
      "\u001b[1;31mKeyboardInterrupt\u001b[0m                         Traceback (most recent call last)",
      "Cell \u001b[1;32mIn[11], line 63\u001b[0m\n\u001b[0;32m     61\u001b[0m     watchdog \u001b[38;5;241m=\u001b[39m time\u001b[38;5;241m.\u001b[39mtime() \u001b[38;5;66;03m# reset timer\u001b[39;00m\n\u001b[0;32m     62\u001b[0m \u001b[38;5;28;01melse\u001b[39;00m:\n\u001b[1;32m---> 63\u001b[0m     time\u001b[38;5;241m.\u001b[39msleep(\u001b[38;5;241m0.001\u001b[39m)\n\u001b[0;32m     64\u001b[0m     \u001b[38;5;28;01mif\u001b[39;00m time\u001b[38;5;241m.\u001b[39mtime()\u001b[38;5;241m-\u001b[39mwatchdog \u001b[38;5;241m>\u001b[39m watchdog_time:\n\u001b[0;32m     65\u001b[0m         \u001b[38;5;28;01mbreak\u001b[39;00m\n",
      "\u001b[1;31mKeyboardInterrupt\u001b[0m: "
     ]
    }
   ],
   "source": [
    "watchdog = time.time()\n",
    "watchdog_time = 15*60 # second\n",
    "\n",
    "# start at 36, end at 96\n",
    "piano = ['1','1','2','2','3','4','4','5','5','6','6','7',\n",
    "         '8','8','9','9','0','q','q','w','w','e','e','r',\n",
    "         't','t','y','y','u','i','i','o','o','p','p','a',\n",
    "         's','s','d','d','f','g','g','h','h','j','j','k',\n",
    "         'l','l','z','z','x','c','c','v','v','b','b','n',\n",
    "         'm'] \n",
    "natural_mask = [1,0,1,0,1,1,0,1,0,1,0,1]\n",
    "extra_octave = 1\n",
    "\n",
    "while True:\n",
    "    msg_and_dt = midi_in.get_message()\n",
    "    if msg_and_dt:\n",
    "        #print(msg_and_dt)\n",
    "        \n",
    "        # taking only KEYDOWN\n",
    "        if 0x90 <= msg_and_dt[0][0] and msg_and_dt[0][0]<=0x9F:\n",
    "        # Code 0x9_ : Note On _ = channel number, 16 channels, 0-f\n",
    "        \n",
    "            # playable region\n",
    "            if msg_and_dt[0][1] >= 24 and msg_and_dt[0][1]<=108:\n",
    "                # print (msg_and_dt[0][1])\n",
    "                # out of zone\n",
    "                if extra_octave:\n",
    "                    if msg_and_dt[0][1] < 36:\n",
    "                        msg_and_dt[0][1] += 12\n",
    "\n",
    "                    if msg_and_dt[0][1] > 96:\n",
    "                        msg_and_dt[0][1] -= 12\n",
    "                \n",
    "                if natural_mask[msg_and_dt[0][1]%12]: # notes with no sharps\n",
    "                    keyboard.press(piano[msg_and_dt[0][1]-36])\n",
    "                else: # notes with sharps\n",
    "                    keyboard.press(\"shift\")\n",
    "                    keyboard.press(piano[msg_and_dt[0][1]-36])\n",
    "                    keyboard.release(\"shift\")\n",
    "                    \n",
    "        # taking only KEYUP\n",
    "        if 0x80 <= msg_and_dt[0][0] and msg_and_dt[0][0]<=0x8F:\n",
    "        # Code 0x8_ : Note On _ = channel number, 16 channels, 0-f\n",
    "        \n",
    "            # playable region\n",
    "            if msg_and_dt[0][1] >= 24 and msg_and_dt[0][1]<=108:\n",
    "                # print (msg_and_dt[0][1])\n",
    "                # out of zone\n",
    "                if extra_octave:\n",
    "                    if msg_and_dt[0][1] < 36:\n",
    "                        msg_and_dt[0][1] += 12\n",
    "\n",
    "                    if msg_and_dt[0][1] > 96:\n",
    "                        msg_and_dt[0][1] -= 12\n",
    "                \n",
    "                if natural_mask[msg_and_dt[0][1]%12]: # notes with no sharps\n",
    "                    keyboard.release(piano[msg_and_dt[0][1]-36])\n",
    "                else: # notes with sharps\n",
    "                    keyboard.release(piano[msg_and_dt[0][1]-36])        \n",
    "                  \n",
    "        watchdog = time.time() # reset timer\n",
    "    else:\n",
    "        time.sleep(0.001)\n",
    "        if time.time()-watchdog > watchdog_time:\n",
    "            break\n",
    "midi_in.close_port()"
   ]
  },
  {
   "cell_type": "code",
   "execution_count": 12,
   "id": "5405cf55-14b3-48e7-8ee3-1998fa2362b2",
   "metadata": {
    "tags": []
   },
   "outputs": [],
   "source": [
    "if midi_in.is_port_open():\n",
    "    midi_in.close_port()"
   ]
  },
  {
   "cell_type": "code",
   "execution_count": null,
   "id": "99acfe5c-9439-4b85-9624-78f37c8cd10f",
   "metadata": {},
   "outputs": [],
   "source": []
  },
  {
   "cell_type": "code",
   "execution_count": null,
   "id": "12358969-bcf9-4371-bb98-b1f02fa9369f",
   "metadata": {},
   "outputs": [],
   "source": []
  },
  {
   "cell_type": "code",
   "execution_count": null,
   "id": "67d13fbe-1d3a-43ee-a139-626d1f2dab0d",
   "metadata": {},
   "outputs": [],
   "source": []
  },
  {
   "cell_type": "code",
   "execution_count": null,
   "id": "238b620f-25f0-493e-957c-ae860cd5c0c6",
   "metadata": {},
   "outputs": [],
   "source": []
  },
  {
   "cell_type": "code",
   "execution_count": null,
   "id": "b2014220-9b02-4c95-bf80-184036259827",
   "metadata": {},
   "outputs": [],
   "source": [
    "watchdog = time.time()\n",
    "watchdog_time = 30 # second\n",
    "\n",
    "# start at 36, end at 96\n",
    "piano = [2,2,3,3,4,5,5,6,6,7,7,8,\n",
    "         9,9,10,10,11,16,16,17,17,18,18,19,\n",
    "         20,20,21,21,22,23,23,24,24,25,25,30,\n",
    "         31,31,32,32,33,34,34,35,35,36,36,37,\n",
    "         38,38,44,44,45,46,46,47,47,48,48,49,\n",
    "         50] \n",
    "natural_mask = [1,0,1,0,1,1,0,1,0,1,0,1]\n",
    "extra_octave = 1\n",
    "\n",
    "while True:\n",
    "    msg_and_dt = midi_in.get_message()\n",
    "    if msg_and_dt:\n",
    "        #print(msg_and_dt)\n",
    "        \n",
    "        # taking only KEYDOWN\n",
    "        if 0x90 <= msg_and_dt[0][0] and msg_and_dt[0][0]<=0x9F:\n",
    "        # Code 0x9_ : Note On _ = channel number, 16 channels, 0-f\n",
    "        \n",
    "            # playable region\n",
    "            if msg_and_dt[0][1] >= 24 and msg_and_dt[0][1]<=108:\n",
    "                # print (msg_and_dt[0][1])\n",
    "                # out of zone\n",
    "                if extra_octave:\n",
    "                    if msg_and_dt[0][1] < 36:\n",
    "                        msg_and_dt[0][1] += 12\n",
    "\n",
    "                    if msg_and_dt[0][1] > 96:\n",
    "                        msg_and_dt[0][1] -= 12\n",
    "                \n",
    "                if natural_mask[msg_and_dt[0][1]%12]: # notes with no sharps\n",
    "                    keyboard.press_and_release(piano[msg_and_dt[0][1]-36])\n",
    "                else: # notes with sharps\n",
    "                    keyboard.press(\"shift\")\n",
    "                    keyboard.press_and_release(piano[msg_and_dt[0][1]-36])\n",
    "                    keyboard.release(\"shift\")\n",
    "                    \n",
    "        watchdog = time.time() # reset timer\n",
    "    else:\n",
    "        time.sleep(0.001)\n",
    "        if time.time()-watchdog > watchdog_time:\n",
    "            break\n",
    "midi_in.close_port()"
   ]
  },
  {
   "cell_type": "code",
   "execution_count": null,
   "id": "23fd5389-0e21-46bf-af98-4bbbf36958b3",
   "metadata": {},
   "outputs": [],
   "source": []
  }
 ],
 "metadata": {
  "kernelspec": {
   "display_name": "base",
   "language": "python",
   "name": "python3"
  },
  "language_info": {
   "codemirror_mode": {
    "name": "ipython",
    "version": 3
   },
   "file_extension": ".py",
   "mimetype": "text/x-python",
   "name": "python",
   "nbconvert_exporter": "python",
   "pygments_lexer": "ipython3",
   "version": "3.13.5"
  }
 },
 "nbformat": 4,
 "nbformat_minor": 5
}
